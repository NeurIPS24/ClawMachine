{
 "cells": [
  {
   "cell_type": "code",
   "execution_count": null,
   "metadata": {},
   "outputs": [],
   "source": [
    "import os\n",
    "import json\n",
    "import argparse\n",
    "from pycocotools.coco import COCO\n",
    "from pycocoevalcap.eval import COCOEvalCap\n",
    "\n",
    "ann_file = '/home/Clawmachine/my_evaluation/refcocog_cap_val.json'\n",
    "\n",
    "\n",
    "filename = '/home/Clawmachine/answer_file/REF/REF_0514.json'\n",
    "data = [json.loads(q) for q in open(filename, \"r\")]\n",
    "# with open(filename, 'r') as file:\n",
    "#     data = json.load(file)\n",
    "data_process = []\n",
    "# breakpoint()\n",
    "\n"
   ]
  },
  {
   "cell_type": "code",
   "execution_count": null,
   "metadata": {},
   "outputs": [],
   "source": [
    "## right\n",
    "\n",
    "for i in range(len(data)):\n",
    "    data_process_s = {}\n",
    "\n",
    "    val =  data[i]['text']\n",
    "    data_process_s['caption'] = val\n",
    "\n",
    "    # data_process_s['ref_id'] = int(data[i]['question_id'])\n",
    "    data_process_s['image_id'] = int(data[i]['image_id'])\n",
    "    data_process.append(data_process_s)\n",
    "\n",
    "res = data_process\n",
    "\n",
    "all_results = \"/home/Clawmachine/my_evaluation/REF_temp.json\"\n",
    "with open(all_results, 'w') as f:\n",
    "    json.dump(res, f)\n",
    "\n",
    "\n"
   ]
  },
  {
   "cell_type": "code",
   "execution_count": null,
   "metadata": {},
   "outputs": [],
   "source": [
    "\n",
    "coco = COCO(ann_file)\n",
    "coco_result = coco.loadRes(all_results)\n",
    "coco_eval = COCOEvalCap(coco, coco_result)\n",
    "\n",
    "coco_eval.params['image_id'] = coco_result.getImgIds()\n",
    "coco_eval.evaluate()\n",
    "for metric, score in coco_eval.eval.items():\n",
    "    print(f'{metric}: {score:.3f}')\n",
    "\n",
    "    "
   ]
  }
 ],
 "metadata": {
  "kernelspec": {
   "display_name": "llava",
   "language": "python",
   "name": "python3"
  },
  "language_info": {
   "codemirror_mode": {
    "name": "ipython",
    "version": 3
   },
   "file_extension": ".py",
   "mimetype": "text/x-python",
   "name": "python",
   "nbconvert_exporter": "python",
   "pygments_lexer": "ipython3",
   "version": "3.10.13"
  }
 },
 "nbformat": 4,
 "nbformat_minor": 2
}
